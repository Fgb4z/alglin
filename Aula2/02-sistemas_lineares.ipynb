{
 "cells": [
  {
   "cell_type": "markdown",
   "metadata": {},
   "source": [
    "# Modelando, visualizando e resolvendo sistemas lineares\n",
    "\n",
    "Este capítulo está ligado ao seguintes objetivos didáticos do curos:\n",
    "1. Resolver problemas de geometria espacial envolvendo conceitos de espaços vetoriais\n",
    "1. Avaliar e resolver sistemas de equações lineares\n",
    "\n",
    "Referência bibliográfica: [Jim Hefferon - Linear Algebra - 4th Edition](https://hefferon.net/linearalgebra/) - Chap. One, I, Chap. Three, III-IV"
   ]
  },
  {
   "cell_type": "code",
   "execution_count": 2,
   "metadata": {},
   "outputs": [],
   "source": [
    "import numpy as np\n",
    "import matplotlib.pyplot as plt\n"
   ]
  },
  {
   "cell_type": "markdown",
   "metadata": {},
   "source": [
    "# Etapa 1"
   ]
  },
  {
   "cell_type": "markdown",
   "metadata": {},
   "source": [
    "# Exercício 1\n",
    "**Objetivo: Entender o problema de estimar custos de produção**\n",
    "\n",
    "Uma doceria faz brigadeiros. Para fazer uma fornada com 20 brigadeiros, é preciso usar 40g de manteiga, uma lata (400g) de leite condensado e 20g de chocolate em pó.\n",
    "\n",
    "O custo de cada ingrediente está na tabela:\n",
    "\n",
    "Ingrediente | Custo por embalagem \n",
    "--- | ---\n",
    "Leite condensado | R\\$10,00 (lata de 400g) \n",
    "Manteiga | R\\$15,00 (pote com 200g)\n",
    "Chocolate em pó |R\\$18,00 (caixa com 200g)\n",
    "\n",
    "Para calcular o custo de uma fornada de brigadeiros, precisamos multiplicar o custo de cada embalagem pela quantidade dele que foi utilizada, e então somar os resultados.\n",
    "\n",
    "Complete o código abaixo para estimar quanto custa fazer uma fornada de 20 brigadeiros."
   ]
  },
  {
   "cell_type": "code",
   "execution_count": 11,
   "metadata": {},
   "outputs": [
    {
     "name": "stdout",
     "output_type": "stream",
     "text": [
      "34.8\n",
      "34.8\n"
     ]
    }
   ],
   "source": [
    "# Resolva o exercício aqui\n",
    "custo_por_ingrediente = [12, 0.12, 0.9] # O que esses números representam?\n",
    "quantidades = [1, 40, 20]\n",
    "custo_total = 0\n",
    "custo_total_2 = 0\n",
    "for n in range(len(custo_por_ingrediente)): # O que precisa ser feito para cada ingrediente?\n",
    "    custo_total_2 += custo_por_ingrediente[n] * quantidades[n]\n",
    "custo_total += np.inner(custo_por_ingrediente, quantidades)\n",
    "print(custo_total)\n",
    "print(custo_total_2)"
   ]
  },
  {
   "cell_type": "markdown",
   "metadata": {},
   "source": [
    "# Exercício 2\n",
    "**Objetivo: Usar soma e multiplicação ponto a ponto de vetores**\n",
    "\n",
    "No primeiro exercício, fizemos um laço explícito para multiplicar duas listas e somar os resultados ponto a ponto. A equação que implementamos foi:\n",
    "\n",
    "$$\n",
    "C = \\sum_{n=0}^{N-1} I[n] Q[n],\n",
    "$$\n",
    "\n",
    "onde $\\boldsymbol{I}$ guarda os ingredientes e $\\boldsymbol{Q}$ guarda as quantidades utilizadas.\n",
    "\n",
    "Se usarmos vetores ao invés de listas, podemos usar a seguinte operação:\n",
    "$$\n",
    "C =  \\sum_{n=0}^{N-1} I \\odot Q.\n",
    "$$\n",
    "\n",
    "O operador $\\odot$ significa \"produto ponto-a-ponto\" (*pointwise multiplication*), e é definido como:\n",
    "$$\n",
    "(I \\odot Q)[n] = I[n] Q[n]\n",
    "$$\n",
    "\n",
    "Quando multiplicamos dois vetores de numpy, realizamos a operação $\\odot$ entre eles. Veja, por exemplo:"
   ]
  },
  {
   "cell_type": "code",
   "execution_count": 12,
   "metadata": {},
   "outputs": [
    {
     "name": "stdout",
     "output_type": "stream",
     "text": [
      "[3 4 7]\n"
     ]
    }
   ],
   "source": [
    "a = np.array([1, 2, 7])\n",
    "b = np.array([3, 2, 1])\n",
    "c = a * b\n",
    "print(c)"
   ]
  },
  {
   "cell_type": "markdown",
   "metadata": {},
   "source": [
    "Também, podemos usar a operação `np.sum(x)` para encontrar a soma de todos os elementos do array `x`.\n",
    "\n",
    "Com base nisso, re-escreva abaixo o código do exercício 1 usando os operadores de multiplicação ponto-a-ponto e a função `np.sum()`, de forma que não seja necessário usar laços em seu código."
   ]
  },
  {
   "cell_type": "code",
   "execution_count": 3,
   "metadata": {},
   "outputs": [
    {
     "name": "stdout",
     "output_type": "stream",
     "text": [
      "14.8\n"
     ]
    }
   ],
   "source": [
    "custo_por_ingrediente = np.array([10, 15, 18]) # O que esses números representam?\n",
    "quantidades = np.array([1, 0.2, 0.1])   \n",
    "a = custo_por_ingrediente * quantidades\n",
    "\n",
    "print(np.sum(a))\n"
   ]
  },
  {
   "cell_type": "markdown",
   "metadata": {},
   "source": [
    "# Exercício 3\n",
    "**Objetivo: modelar a soma de produtos como um produto interno**\n",
    "\n",
    "A operação $\\sum_n x[n]y[n]$, que fizemos nos exercícios 1 e 2, pode ser interpretada como uma soma dos elementos de $\\boldsymbol{x}$ ponderada pelos elementos correspondentes em $\\boldsymbol{y}$. Essa operação é muito comum, e é chamada de \"produto interno\" (*inner product*). O produto interno é definido como:\n",
    "\n",
    "$$\n",
    "<x, y> = \\sum_n x[n]y[n] = \\sum_n x \\odot y\n",
    "$$\n",
    "\n",
    "Em Numpy, a função que calcula o produto interno de dois vetores é `np.inner(x, y)`, então poderíamos resolver os exercícios 1 e 2 usando:"
   ]
  },
  {
   "cell_type": "code",
   "execution_count": 19,
   "metadata": {},
   "outputs": [
    {
     "name": "stdout",
     "output_type": "stream",
     "text": [
      "34.8\n"
     ]
    }
   ],
   "source": [
    "custo_total = np.inner(custo_por_ingrediente, quantidades)\n",
    "print(custo_total)"
   ]
  },
  {
   "cell_type": "markdown",
   "metadata": {},
   "source": [
    "Vamos agora expandir nossa doceria. Além de brigadeiros, vamos adicionar *ganache* no cardápio.\n",
    "\n",
    "Para fazer um pote de ganache, é preciso usar 40g de manteiga, 40g de chocolate e 200mL de creme de leite. Uma caixinha de 200mL de creme de leite custa R\\$2,80. Nossa tabela de ingredientes então fica:\n",
    "\n",
    "Ingrediente | Custo por embalagem \n",
    "--- | ---\n",
    "Leite condensado | R\\$10,00 (lata de 400g) \n",
    "Manteiga | R\\$15,00 (pote com 200g)\n",
    "Chocolate em pó |R\\$18,00 (caixa com 200g)\n",
    "Creme de leite | R\\$2,80 (caixa com 200mL)\n",
    "\n",
    "Em nosso modelo, gostaríamos de usar um único vetor `custo_por_ingrediente` tanto para o brigadeiro quanto para o ganache, e passamos a ter um vetor `quantidades_brigadeiro` para o brigadeiro e um vetor `quantidades_ganache` para o ganache.\n",
    "\n",
    "Complete a solução abaixo para calcular o custo de cada uma das fornadas de doce.\n",
    "\n",
    "1. Complete a definição dos vetores `quantidades_brigadeiro` e `quantidades_ganache`. Como podemos fazer para representar o fato de que um brigadeiro não usa creme de leite e que um ganache não usa manteiga?\n",
    "2. Como a lista de vetores `custos_totais` é calculada? Qual é o conteúdo dela?\n",
    "3. Adicione o \"doce de leite\" ao cardápio. A receita dele é muito simples: deixamos uma lata de leite condensado ferver na panela de pressão por 40 minutos. Lembre-se de fazer essa adição sem alterar o código abaixo da linha marcada.\n",
    "4. Adicione o \"doce de coco\" ao cardápio. Uma fornada de 20 doces usa 200g de leite condensado e 250g de coco ralado. O pacote de 1kg de coco ralado custa R$35,00.  Lembre-se de fazer essa adição sem alterar o código abaixo da linha marcada."
   ]
  },
  {
   "cell_type": "code",
   "execution_count": 21,
   "metadata": {},
   "outputs": [
    {
     "name": "stdout",
     "output_type": "stream",
     "text": [
      "[np.float64(14.8), np.float64(9.399999999999999)]\n"
     ]
    }
   ],
   "source": [
    "custo_por_ingrediente = np.array([10, 15, 18, 2.8])\n",
    "\n",
    "quantidades_brigadeiro = np.array([1, 1/5, 0.1, 0]) # Complete esse\n",
    "quantidades_ganache = np.array([0, 0.2, 0.2, 1]) # Complete esse\n",
    "\n",
    "quantidades = [quantidades_brigadeiro, quantidades_ganache]\n",
    "\n",
    "# Não modifique nada abaixo desta linha\n",
    "custos_totais = []\n",
    "for idx, q in enumerate(quantidades):\n",
    "    custos_totais.append (np.inner(custo_por_ingrediente, q))\n",
    "print(custos_totais)"
   ]
  },
  {
   "cell_type": "markdown",
   "metadata": {},
   "source": [
    "# Exercício 4\n",
    "**Objetivo: Usar matrizes ao invés de listas de vetores**\n",
    "\n",
    "No exercício 3, usamos um vetor para representar cada uma das quantidades de ingredientes. Ao invés de fazer isso, podemos usar matrizes, que são essencialmente \"vetores de vetores\".\n",
    "\n",
    "Assim como tínhamos usado uma lista para inicializar os elementos de um vetor, vamos usar listas de listas para inicializar os elementos de uma matriz:"
   ]
  },
  {
   "cell_type": "code",
   "execution_count": 22,
   "metadata": {},
   "outputs": [
    {
     "name": "stdout",
     "output_type": "stream",
     "text": [
      "[[1 2 3]\n",
      " [4 5 6]]\n",
      "2\n",
      "(2, 3)\n"
     ]
    }
   ],
   "source": [
    "a = np.array([ [1, 2, 3], [4, 5, 6] ])\n",
    "print(a)\n",
    "print(a[0,1])\n",
    "print(a.shape)"
   ]
  },
  {
   "cell_type": "code",
   "execution_count": 36,
   "metadata": {},
   "outputs": [
    {
     "name": "stdout",
     "output_type": "stream",
     "text": [
      "[[ 0.62  0.38]\n",
      " [-0.19  1.19]]\n"
     ]
    }
   ],
   "source": [
    "a = np.array([ [0.8, 0.2], [-0.1, 1.1] ])\n",
    "b = np.array([[2], [2]])\n",
    "\n",
    "\n",
    "print(a @ a)"
   ]
  },
  {
   "cell_type": "markdown",
   "metadata": {},
   "source": [
    "Veja que todas as listas passadas têm que ter o mesmo tamanho, o que permite gerar essa estrutura retangular com linhas e colunas.\n",
    "\n",
    "Vamos praticar o uso de matrizes.\n",
    "\n",
    "Crie duas matrizes:\n",
    "1. A matriz de receitas $\\boldsymbol{X}$, que tem um linha para cada receita da doceria e uma coluna para cada ingrediente usado, isto é, $x[i,j]$ representa a quantidade do ingrediente $j$ na receita $i$.\n",
    "2. A matriz de custos $\\boldsymbol{Y}$, que tem apenas uma coluna e cada linha representa o custo de cada ingrediente, na mesma ordem usada na matriz $\\boldsymbol{X}$.\n",
    "3. Veja que $\\boldsymbol{X}$ deveria ser uma matriz com 4x5 (isto é, 4 linhas e 5 colunas), e $\\boldsymbol{Y}$ deveria ser uma matriz 5x1, isto é, com 5 linhas e 1 coluna. Use o método `shape` para confirmar as dimensões das matrizes."
   ]
  },
  {
   "cell_type": "code",
   "execution_count": 28,
   "metadata": {},
   "outputs": [
    {
     "name": "stdout",
     "output_type": "stream",
     "text": [
      "(4, 5)\n",
      "(5, 1)\n",
      "[[1 2 3 4 5]\n",
      " [1 2 3 4 5]\n",
      " [1 2 3 4 5]\n",
      " [1 2 3 4 5]]\n",
      "[[10 10 10 10 10]]\n"
     ]
    }
   ],
   "source": [
    "X = np.array( [ [1, 2, 3, 4, 5], [1, 2, 3, 4, 5], [1, 2, 3, 4, 5], [1, 2, 3, 4, 5] ])\n",
    "Y = np.array( [ [10], [10], [10], [10], [10] ])\n",
    "print(X.shape)\n",
    "print(Y.shape)\n",
    "print(X)\n",
    "print(Y.T)"
   ]
  },
  {
   "cell_type": "markdown",
   "metadata": {},
   "source": [
    "# Exercício 5\n",
    "**Objetivo: Usar multiplicação matricial para o modelo mais compacto**\n",
    "\n",
    "Uma operação importante que vamos usar hoje é a *multiplicação matricial* (*dot product*). A notação matemática para esta operação é:\n",
    "$$\n",
    "\\boldsymbol{Z} = \\boldsymbol{X} \\boldsymbol{Y}\n",
    "$$\n",
    "\n",
    "Essa operação cria uma matriz $\\boldsymbol{Z}$ tal que o elemento $z[i,j]$ é o produto interno entre a i-ésima linha de $\\boldsymbol{X}$ e a j-ésima coluna de $\\boldsymbol{Y}$, isto é:\n",
    "\n",
    "$$\n",
    "z[i,j] = <\\boldsymbol{X[i,:]}, \\boldsymbol{Y[:,j]}> = \\sum_{n=0}^{N-1} x[i,n] y[n,i]\n",
    "$$\n",
    "\n",
    "Veja por exemplo:\n",
    "$$ \\boldsymbol{x} = \n",
    "\\begin{bmatrix}\n",
    "    1 & 2\\\\\n",
    "    3 & 4\n",
    "\\end{bmatrix}\n",
    "$$\n",
    "\n",
    "$$ \\boldsymbol{y} = \n",
    "\\begin{bmatrix}\n",
    "    -1 \\\\\n",
    "    -2 \n",
    "\\end{bmatrix}\n",
    "$$\n",
    "\n",
    "$$ \\boldsymbol{z} = \n",
    "\\begin{bmatrix}\n",
    "    -1 \\times 1 + -2 \\times 2 \\\\\n",
    "    -1 \\times 3 + -2 \\times 4\n",
    "\\end{bmatrix}\n",
    "= \n",
    "\\begin{bmatrix}\n",
    "    -1 -4 \\\\\n",
    "    -3 -8\n",
    "\\end{bmatrix}\n",
    "= \n",
    "\\begin{bmatrix}\n",
    "    -5 \\\\\n",
    "    -11\n",
    "\\end{bmatrix}\n",
    "$$\n",
    "\n",
    "\n",
    "A multiplicação matricial pode ser representada em Python usando o operador `@` ou então a função `np.dot()`:"
   ]
  },
  {
   "cell_type": "code",
   "execution_count": 23,
   "metadata": {},
   "outputs": [
    {
     "name": "stdout",
     "output_type": "stream",
     "text": [
      "[[ -5]\n",
      " [-11]]\n",
      "[[ -5]\n",
      " [-11]]\n"
     ]
    }
   ],
   "source": [
    "x_ = np.array([ [1, 2], [3, 4] ])\n",
    "y_ = np.array([ [-1], [-2]])\n",
    "z_ = x_ @ y_\n",
    "print(z_)\n",
    "z_ = np.dot(x_, y_)\n",
    "print(z_)"
   ]
  },
  {
   "cell_type": "markdown",
   "metadata": {},
   "source": [
    "Para que a operação de multiplicação matricial seja possível, é preciso que haja tantas colunas em $X$ quanto linhas em $Y$, mas o número de linhas de $X$ e o de colunas em $Y$ é livre. Em outras palavras:\n",
    "\n",
    "* $X \\in \\mathbb{R}^{i \\times N}$\n",
    "* $Y \\in \\mathbb{R}^{N \\times j}$\n",
    "* $Z \\in \\mathbb{R}^{i \\times j}$\n",
    "\n",
    "Usamos uma notação $M \\in \\mathbb{R}^{A \\times B}$ (geralmente isso é lido como \"M pertence a R-A por B\") para significar que a matriz $M$ tem $A$ linhas e $B$ colunas. Essa notação vem da ideia do conjunto dos números reais ($\\mathbb{R}$) - lembre-se que, quando $x$ é um número real qualquer, dizemos que \"x pertence aos números reais, ou $x \\in \\mathbb{R}$. Da mesma forma, quando um vetor $v$ tem $N$ elementos, dizemos que ele pertence a \"R-N$, ou, $v \\in \\mathbb{R}^N$.\n",
    "\n",
    "1. Calcule (manualmente, no papel) o valor da matriz $z$ abaixo, e, após, confirme seu resultado usando Python. \n",
    "$$\n",
    "z = x y\\\\\n",
    "\n",
    "x =\n",
    "\\begin{bmatrix}\n",
    "    0 & 1\\\\\n",
    "    2 & 3\n",
    "\\end{bmatrix}\\\\ \n",
    "\n",
    "y =\n",
    "\\begin{bmatrix}\n",
    "    2 \\\\\n",
    "    1\n",
    "\\end{bmatrix}\n",
    "$$\n",
    "\n",
    "2. Se temos as matrizes $X$, com uma linha por receita e uma coluna por ingrediente, e $A$, com uma linha por ingrediente e apenas uma coluna, (a) qual deve ser a dimensão da matriz $Y=XA$? (b) O que cada elemento de $Y$ representa?\n",
    "\n",
    "3. Vamos supor que temos uma outra opção de mercado, com outros custos para os ingredientes. O que aconteceria com a interpretação dos elementos da matriz $Y$ do ítem acima se os preços do novo mercado fossem representados como uma nova coluna na matriz $A$?\n"
   ]
  },
  {
   "cell_type": "markdown",
   "metadata": {},
   "source": [
    "# Exercício 6\n",
    "**Objetivo: Interpretar a multiplicação matricial como um sistema com entradas e saídas**\n",
    "\n",
    "Nos exercícios acima, fizemos uma mutiplicação matricial. Partimos da matriz $X$, (receitas por ingrediente), e multiplicamos pela matriz $A$ (ingrediente por custo), gerando a matriz $Y$ (receitas por custo), ou: $Y = XA$.\n",
    "\n",
    "A multiplicação matricial poderia ser interpretada como uma função escrita em Python parecida com:\n",
    "\n",
    "    def calcular_custos(receitas, custos):\n",
    "        # Executa multiplicacao matricial\n",
    "        custos = receitas @ custos\n",
    "        return custos\n",
    "\n",
    "---\n",
    "\n",
    "1. A doceria gostaria de que seu preço de venda fosse sempre 10% superior ao custo com ingredientes. Faça um programa que calcula o preço de venda de cada receita usando multiplicações matriciais. Qual é o preço de venda de cada receita?\n",
    "3. A doceria decidiu fazer dois kits para vender: o kit A, que tem 100 brigadeiros e 1 pote de ganache, e o kit B, que tem 10 brigadeiros, 10 doces de coco e 2 potes de ganache. Faça um programa que calcula o preço de venda de cada kit usando multiplicações matriciais. Qual é o preço de venda de cada kit?\n",
    "4. Um cliente fez um pedido de dois kits A e três kits B. Usando apenas multiplicações matriciais (e o mesmo processo que fizemos ao longo deste exercício) qual é o preço total deste pedido?\n"
   ]
  },
  {
   "cell_type": "markdown",
   "metadata": {},
   "source": [
    "\n",
    "# Etapa 2\n"
   ]
  },
  {
   "cell_type": "markdown",
   "metadata": {},
   "source": [
    "# Exercício 7\n",
    "**Objetivo: entender o sistema presa-predador linear**\n",
    "\n",
    "Uma situação que acontece na natureza é que alguns seres vivos são predadores de outros. Por exemplo: o [carcará](https://pt.wikipedia.org/wiki/Carcar%C3%A1), uma ave de rapina sul-americana parecida com um falcão, se alimenta de sapos, e, por isso, dizemos que o carcará é um *predador* do sapo. Nessa relação, o carcará é o *predador* e o sapo é a *presa*. Nosso objetivo, neste exercício, é encontrar como a quantidade de carcarás e de sapos varia com o tempo.\n",
    "\n",
    "Na nossa simulação, o tempo é medido em meses (veja que $t$ será sempre um número inteiro!). Vamos usar a variável $c$ para representar o número de carcarás na população, e $s$ para representar o número de sapos. Então, $c_t$ é o número de carcarás no tempo $t$, e $s_t$ é o número de sapos no tempo $t$. Como cada carcará come muitos sapos, vamos convencionar que $c$ está em unidades e $s$ está em milhares.\n",
    "\n",
    "Vamos assumir alguns comportamentos \n",
    "\n",
    "* A população de carcarás naturalmente cai em 20% a cada mês\n",
    "* Para cada cinco mil sapos existentes naquele mês, um novo carcará nasce\n",
    "* A população de sapos naturalmente sobe em 10% porque eles se reproduzem\n",
    "* A cada mês, cada carcará consegue comer 100 sapos\n",
    "\n",
    "Isso significa que podemos escrever equações para calcular o número de carcarás e de sapos a cada mês, tomando por base a quantidade deles no mês anterior:\n",
    "\n",
    "$$ \n",
    "\\begin{cases}\n",
    "    \\begin{aligned}\n",
    "    c_t & = 0.8 c_{t-1} + 0.2 s_{t-1} \\\\\n",
    "    s_t & = - 0.1 c_{t-1} + 1.1 s_{t-1} \\\\\n",
    "    \\end{aligned}\n",
    "\\end{cases}\n",
    "$$\n",
    "\n",
    "1. Complete a função abaixo para simular a mudança populacional a cada mês por um período de 10 anos\n",
    "2. Simule a mudança populacional para as as condições iniciais: $(c_0=10, s_0=100)$, $(c_0=6, s_0=5)$, $(c_0=10.3, s_0=10.3)$, $(c_0=10, s_0=10)$. O que acontece em cada um desses casos?\n",
    "3. O que acontece com as populações se os gaviões começarem a comer mais e mais?\n",
    "4. O que acontece com as populações se os sapos passarem a se reproduzir menos?"
   ]
  },
  {
   "cell_type": "code",
   "execution_count": 4,
   "metadata": {},
   "outputs": [
    {
     "data": {
      "text/plain": [
       "Text(0, 0.5, 'População')"
      ]
     },
     "execution_count": 4,
     "metadata": {},
     "output_type": "execute_result"
    },
    {
     "data": {
      "image/png": "[encoded data removed]",
      "text/plain": [
       "<Figure size 500x300 with 1 Axes>"
      ]
     },
     "metadata": {},
     "output_type": "display_data"
    }
   ],
   "source": [
    "def executar_modelo(c, s, meses):\n",
    "    # Faça sua função aqui, implementando as equações do sistema!\n",
    "    c_mes_passado = c\n",
    "    s_mes_passado = s\n",
    "\n",
    "    c_list = []\n",
    "    s_list = []\n",
    "    for i in range(meses):\n",
    "        c_este_mes = 0.8 * c_mes_passado + 0.2 * s_mes_passado\n",
    "        s_este_mes = -0.1 * c_mes_passado + 1.1 * s_mes_passado\n",
    "        c_mes_passado = c_este_mes\n",
    "        s_mes_passado = s_este_mes\n",
    "        c_list.append(c_este_mes)\n",
    "        s_list.append(s_este_mes)\n",
    "    return c_list, s_list\n",
    "\n",
    "\n",
    "c_list, s_list = executar_modelo(c=10, s=100, meses=120)\n",
    "\n",
    "import matplotlib.pyplot as plt\n",
    "\n",
    "plt.figure(figsize=(5,3))\n",
    "plt.plot(c_list, label=\"Carcarás\")\n",
    "plt.plot(s_list, label=\"Sapos\")\n",
    "plt.xlabel('Meses')\n",
    "plt.ylabel('População')\n"
   ]
  },
  {
   "cell_type": "markdown",
   "metadata": {},
   "source": [
    "# Exercício 8\n",
    "**Objetivo: escrever um sistema dinâmico linear em seu formato matricial**\n",
    "\n",
    "Uma maneira de escrever o sistema de equações que usamos no exercício anterior é usando a forma matricial:\n",
    "\n",
    "$$\n",
    "\\begin{bmatrix}\n",
    "    c_t \\\\\n",
    "    s_t \n",
    "\\end{bmatrix}\n",
    "=\n",
    "\\begin{bmatrix}\n",
    "    0.8 & 0.2\\\\\n",
    "    -0.1 & 1.1\n",
    "\\end{bmatrix} \n",
    "\\begin{bmatrix}\n",
    "    c_{t-1} \\\\\n",
    "    s_{t-1}\n",
    "\\end{bmatrix}\n",
    "$$\n",
    "\n",
    "1. Realize manualmente o cálculo acima e verifique que essa formulação matricial é equivalente ao sistema de equações\n",
    "2. Com essa formulação, o cálculo das populações no mês seguinte passa a ser uma multiplicação matricial. Reformule a função `executar_modelo` para que ela opere diretamente com matrizes e vetores. Teste sua nova função para confirmar que tem os mesmos resultados da versão anterior.\n",
    "\n"
   ]
  },
  {
   "cell_type": "code",
   "execution_count": 35,
   "metadata": {},
   "outputs": [
    {
     "name": "stdout",
     "output_type": "stream",
     "text": [
      "[10, np.float64(28.0), np.float64(44.2)]\n",
      "[100, np.float64(109.00000000000001), np.float64(117.10000000000002)]\n"
     ]
    },
    {
     "data": {
      "image/png": "[encoded data removed]",
      "text/plain": [
       "<Figure size 500x300 with 1 Axes>"
      ]
     },
     "metadata": {},
     "output_type": "display_data"
    }
   ],
   "source": [
    "\n",
    "def executar_modelo(c, s, meses):\n",
    "    # Faça sua função aqui, implementando as equações do sistema!\n",
    "    populacoes_mes_passado = np.array([[c], [s]])\n",
    "    A = np.array([[0.8, 0.2], [-0.1, 1.1]])\n",
    "    c_mes_passado = c\n",
    "    s_mes_passado = s\n",
    "\n",
    "    c_list = [c]\n",
    "    s_list = [s]\n",
    "    for i in range(meses):\n",
    "        populacao_este_mes = A @ populacoes_mes_passado\n",
    "        c_list.append(populacao_este_mes[0,0])\n",
    "        s_list.append(populacao_este_mes[1,0])\n",
    "        populacoes_mes_passado = populacao_este_mes\n",
    "    return c_list, s_list\n",
    "\n",
    "\n",
    "c_list, s_list = executar_modelo(c=10, s=100, meses=2)\n",
    "\n",
    "import matplotlib.pyplot as plt\n",
    "\n",
    "plt.figure(figsize=(5,3))\n",
    "plt.plot(c_list, label=\"Carcarás\")\n",
    "plt.plot(s_list, label=\"Sapos\")\n",
    "plt.xlabel('Meses')\n",
    "plt.ylabel('População')\n",
    "\n",
    "print(c_list)\n",
    "print(s_list)\n"
   ]
  },
  {
   "cell_type": "code",
   "execution_count": null,
   "metadata": {},
   "outputs": [],
   "source": []
  },
  {
   "cell_type": "markdown",
   "metadata": {},
   "source": [
    "# Exercício 9\n",
    "**Objetivo: usar a multiplicação matricial para executar várias simulações paralelamente**\n",
    "\n",
    "Uma possível ideia para simular diversas condições iniciais simultaneamente é usar uma matriz de condições iniciais com uma coluna para cada condição inicial, isto é, algo como:\n",
    "$$\n",
    "\\begin{bmatrix}\n",
    "    c^{(1)}_{t} & c^{(2)}_{t} & c^{(3)}_{t} \\\\\n",
    "    s^{(1)}_{t} & s^{(2)}_{t} & s^{(3)}_{t} \n",
    "\\end{bmatrix}=\n",
    "\\begin{bmatrix}\n",
    "    0.8 & 0.2\\\\\n",
    "    -0.1 & 1.1\n",
    "\\end{bmatrix} \n",
    "\\begin{bmatrix}\n",
    "    c^{(1)}_{t-1} & c^{(2)}_{t-1} & c^{(3)}_{t-1} \\\\\n",
    "    s^{(1)}_{t-1} & s^{(2)}_{t-1} & s^{(3)}_{t-1} \n",
    "\\end{bmatrix}\n",
    "$$\n",
    "\n",
    "1. Realize manualmente (no papel) a multiplicação acima. Evidencie como cada coluna da matriz do lado esquerdo da equação depende somente das colunas correspondentes na matriz de entradas no lado direito da equação, isto é, $c^{(2)}$, por exemplo, não influencia $c^{(1)}$.\n",
    "2. Execute todas as simulações de variações do problema que fizemos nos ítens anteriores, mas agora usando a formulação matricial para simularmos todos simultaneamente.\n"
   ]
  },
  {
   "cell_type": "code",
   "execution_count": null,
   "metadata": {},
   "outputs": [],
   "source": [
    "\n",
    "def executar_modelo(c, s, meses):\n",
    "    # Faça sua função aqui, implementando as equações do sistema!\n",
    "    populacoes_mes_passado = np.array([[c], [s]])\n",
    "    A = np.array([[0.8, 0.2], [-0.1, 1.1]])\n",
    "    c_mes_passado = c\n",
    "    s_mes_passado = s\n",
    "\n",
    "    c_list = [c]\n",
    "    s_list = [s]\n",
    "    for i in range(meses):\n",
    "        populacao_este_mes = A @ populacoes_mes_passado\n",
    "        c_list.append(populacao_este_mes[0,0])\n",
    "        s_list.append(populacao_este_mes[1,0])\n",
    "        populacoes_mes_passado = populacao_este_mes\n",
    "    return c_list, s_list\n",
    "\n",
    "\n",
    "c_list, s_list = executar_modelo(c=10, s=100, meses=120)\n",
    "\n",
    "import matplotlib.pyplot as plt\n",
    "\n",
    "plt.figure(figsize=(5,3))\n",
    "plt.plot(c_list, label=\"Carcarás\")\n",
    "plt.plot(s_list, label=\"Sapos\")\n",
    "plt.xlabel('Meses')\n",
    "plt.ylabel('População')\n"
   ]
  },
  {
   "cell_type": "markdown",
   "metadata": {},
   "source": [
    "# Exercício 10\n",
    "**Objetivo: entender o processo de transposição de matrizes**\n",
    "\n",
    "Você deve ter percebido que na etapa 1 desta aula usamos as linhas de uma matriz para representar cada um dos nossos elementos, ao passo que agora temos colunas representando esses mesmos elementos. Na verdade, podemos optar por qualquer uma das representações, e para isso usamos uma operação chamada \"transposição\". Na transposição, as linhas de uma matriz se tornam colunas e vice-versa, isto é, se uma matriz $X$ tem elementos $x[i,j]$, então a matriz transposta $X^T$ tem elementos $x^T[i,j] = x[j,i]$. Por exemplo:\n",
    "$$\n",
    "X =\n",
    "\\begin{bmatrix}\n",
    "    a & b & c\\\\\n",
    "    d & e & f\n",
    "\\end{bmatrix} \\rightarrow\n",
    "X^T =\n",
    "\\begin{bmatrix}\n",
    "    a & d\\\\\n",
    "    b & e\\\\\n",
    "    c & f\n",
    "\\end{bmatrix}\n",
    "$$\n",
    "\n",
    "É claro que a transposta da transposta de uma matriz é a própria matriz original:\n",
    "$$\n",
    "X^{T^T} = X\n",
    "$$\n",
    "\n",
    "A transposição de matrizes tem uma propriedade muito importante, que é a de possibilitar inverter a ordem das matrizes em uma multiplicação:\n",
    "$$\n",
    "(AB)^T = B^T A^T\n",
    "$$\n",
    "\n",
    "1. Em nossa simulação de carcarás e sapos, utilizamos a forma: $Y=AX$. Identifique as matrizes $Y$, $A$ e $X$.\n",
    "2. Na representação atual, os elementos de $Y$ são suas colunas. Podemos transpor os dois lados da equação e obter: $Y^T = (AX)^T$. Use as propriedades da transposição de matrizes para simplificar essa equação e permitir que $Y^T$ seja encontrado usando somente uma multiplicação matricial.\n",
    "3. Altere sua função `executar_modelo` para que ela passe a operar com a forma transposta de seu problema."
   ]
  },
  {
   "cell_type": "markdown",
   "metadata": {},
   "source": [
    "# Exercício 11\n",
    "**Objetivo: refletir sobre as representações em linhas e em colunas**\n",
    "\n",
    "Até o momento, você deve ter verificado que podemos operar com matrizes que representam elementos ao longo de suas linhas ou ao longo de suas colunas. Se tudo correu bem, você provavelmente verificou que as duas representações são estritamente iguais, ao menos no que diz respeito aos números que estão lá representados. Porém, há comunidades que usam a representação \"cada elemento é uma linha\" e outras que usam \"cada elemento é uma coluna\".\n",
    "\n",
    "1. Quando pensamos em uma planilha de notas de alunos, em que cada linha representa um aluno e cada coluna representa uma das avaliações, qual das representações estamos usando?\n",
    "2. Quando pensamos em um sistema de equações, como aquele que escrevemos para o caso dos carcarás e dos sapos, qual das representações estamos usando?\n",
    "3. Existe uma representação que seja, em princípio, \"melhor\" que a outra?\n"
   ]
  },
  {
   "cell_type": "code",
   "execution_count": null,
   "metadata": {},
   "outputs": [],
   "source": []
  },
  {
   "cell_type": "markdown",
   "metadata": {},
   "source": [
    "# Etapa 3\n",
    "# Exercício 12\n",
    "**Objetivo: Entender o algoritmo PageRank como navegação aleatória e probabilidade**\n",
    "\n",
    "O buscador Google foi criado com base num algoritmo chamado PageRank. O PageRank tem o objetivo de identificar quais são as páginas web mais relevantes que se relacionam a uma determinada \"query\". A premissa do PageRank é que as páginas que são linkadas por mais páginas são mais relevantes, e que as páginas que recebem links de páginas relevantes também são mais relevantes. Uma maneira de modelar isso é usando a ideia de um \"surfista aleatório\": se uma pessoa clica aleatoriamente em links durante sua navegação na Internet, essa pessoa vai passar, com mais probabilidade, em sites relevantes. Daí, a ideia é que a relevância de uma página seja proporcional à probabilidade do surfista estar nessa página ao longo de sua navegação aleatória.\n",
    "\n",
    "Vamos partir de uma matriz $A$ que representa todas as páginas da web. Como estamos explicando esse conceito, vamos usar primeiro uma \"web fictícia\" com 4 páginas. O elemento $a_{i,j}$ representa a probabilidade de, clicando num link aleatório da página $j$, sair na página $i$. Isso significa que, se $a_{i,j}=0$, então não há link da página $j$ para a página $i$:"
   ]
  },
  {
   "cell_type": "code",
   "execution_count": 10,
   "metadata": {},
   "outputs": [
    {
     "name": "stdout",
     "output_type": "stream",
     "text": [
      "[[0.         0.5        0.         0.        ]\n",
      " [0.33333333 0.         0.5        0.        ]\n",
      " [0.33333333 0.         0.         1.        ]\n",
      " [0.33333333 0.5        0.5        0.        ]]\n"
     ]
    }
   ],
   "source": [
    "# A[i,j] = probabilidade de chegar na página i vindo da página j\n",
    "A = np.array([[0, 1, 0, 0], [1, 0, 1, 0], [1, 0, 0, 1], [1, 1, 1, 0]])\n",
    "A = A / np.sum(A, axis=0)\n",
    "print(A)"
   ]
  },
  {
   "cell_type": "markdown",
   "metadata": {},
   "source": [
    "1. A matriz $A$ definida acima representa quatro páginas web. Há um link da página $0$ para a página $2$? Há um link da página $2$ para a página $0$?\n",
    "1. Abaixo, há um código que simula o surfista aleatório. Analise criticamente o código e decida se ele, de fato, está simulando um surfista aleatório. Se for o caso, corrija o que estiver errado.\n",
    "2. O código dá resultados significativamente diferentes quando o surfista é inicializado em uma outra página que não a $0$?"
   ]
  },
  {
   "cell_type": "code",
   "execution_count": 13,
   "metadata": {},
   "outputs": [
    {
     "name": "stdout",
     "output_type": "stream",
     "text": [
      "[0.10781 0.21489 0.35636 0.32094]\n"
     ]
    }
   ],
   "source": [
    "def randomsurfer_pagerank(A, i_init=0):\n",
    "    hops = np.zeros(A.shape[0]) # hops[i] = quantas vezes o surfista caiu na página p_i'\n",
    "    nodes = range(A.shape[0]) # Uma lista com os números das páginas\n",
    "    i_ = i_init # Em que página o surfista está?\n",
    "    for count in range(100000): # Quantos saltos o surfista vai fazer?\n",
    "        hops[i_] += 1 # Conto uma passagem na página que estou\n",
    "        possibilities = A[:,i_] # Probabilidades para links que saem da página i_\n",
    "        next_i = np.random.choice(nodes, p=possibilities) # Escolho a próxima página\n",
    "        i_ = next_i # Navego para próxima página\n",
    "    \n",
    "    hops = hops / np.sum(hops) # Transformo contagens em probabilidades\n",
    "    return hops\n",
    "\n",
    "print(randomsurfer_pagerank(A, 0))"
   ]
  },
  {
   "cell_type": "markdown",
   "metadata": {},
   "source": [
    "# Exercício 13\n",
    "**Objetivo: Modelar as probabilidades de transição do PageRank em forma matricial**\n",
    "\n",
    "Podemos interpretar os elementos da matriz $A$ como a probabilidade de ir para a página $i$ sabendo que estamos na página $j$, isto é:\n",
    "$$\n",
    "a_{i,j} = P(s_t = i | s_{t-1} = j)\n",
    "$$\n",
    "\n",
    "Vamos representar a nossa localização na web através da matriz-coluna $X$. Essa matriz será inicializada com zeros, exceto na posição $0$, que será igual a $1$, significando que estamos na página $0$, isto é:\n",
    "$$\n",
    "X =\n",
    "\\begin{bmatrix}\n",
    "    1 \\\\\n",
    "    0 \\\\\n",
    "    0 \\\\\n",
    "    0\n",
    "\\end{bmatrix}\n",
    "$$\n",
    "\n",
    "1. Calcule (manualmente) a matriz $Y = AX$. \n",
    "2. Qual é a soma dos elementos de $Y$?\n",
    "3. O que cada elemento da matriz $Y$ significa em termos das probabilidades ligadas ao nosso problema?"
   ]
  },
  {
   "cell_type": "markdown",
   "metadata": {},
   "source": [
    "# Exercício 14\n",
    "**Objetivo: Implementar o algoritmo PageRank com multiplicações matriciais**\n",
    "\n",
    "Nesta seção, faremos uma dedução matemática. Estou acreditando que ela é importante porque esse resultado faz uma ponte entre as probabilidades condicionais e a multiplicação matricial que não está em nenhum livro didático, mas que é usada constantemente em textos de *machine learning*.\n",
    "\n",
    "Vamos partir do seguinte resultado, ligado à soma de interseções, assumindo que os eventos $C_i$ são disjuntos e a união de todos os eventos $C_i$ cobre $A$ completamente:\n",
    "\n",
    "$$\n",
    "P(A) = P(A \\cap C_1) + P(A \\cap C_2) + .... + P(A \\cap C_N),\n",
    "$$\n",
    "\n",
    "Usando a definição de probabilidades condicionais, temos:\n",
    "\n",
    "$$\n",
    "P(A) = P(A|C_1)P(C_1) + P(A|C_2)P(C_2) + .... + P(A|C_N)P(C_N),\n",
    "$$\n",
    "\n",
    "que significa que a probabilidade de um evento é igual à soma de todas as probabilidades desse evento ligadas a diferentes condições, poderadas pelas probabilidades das condições.\n",
    "\n",
    "Pelo resultado da soma de probabilidades condicionais, podemos calcular a probabilidade de chegar à página $0$, isto é, $P(s_t = 0)$, somando as probabilidades de chegar na página $0$ à partir de cada uma das páginas $j$ e ponderando pelas probabilidades de estar na página $j$ em primeiro lugar, isto é:\n",
    "\n",
    "$$\n",
    "P(s_t = 0) = P(s_t = 0 | s_{t-1}=0) P(s_{t-1}=0) + P(s_t = 0 | s_{t-1}=1) P(s_{t-1}=1) + ... + P(s_t = 0 | s_{t-1}=N-1) P(s_{t-1}=N-1)\n",
    "$$\n",
    "\n",
    "Podemos generalizar esse resultado para todas as páginas $i$:\n",
    "\n",
    "$$\n",
    "P(s_t = i) = P(s_t = i | s_{t-1}=0) P(s_{t-1}=0) + P(s_t = i | s_{t-1}=1) P(s_{t-1}=1) + ... + P(s_t = i | s_{t-1}=N-1) P(s_{t-1}=N-1)\n",
    "$$\n",
    "\n",
    "Essa expressão pode ser reduzida para uma somatória:\n",
    "\n",
    "$$\n",
    "P(s_t = i) = \\sum_{j=0}^ {N-1}  P(s_t = i | s_{t-1}=j) P(s_{t-1}=j).\n",
    "$$\n",
    "\n",
    "Porém, construímos nossa matriz $A$ de forma que $a[i,j]=P(s_t = i | s_{t-1}=j)$, e nossa matriz-coluna $X$ é tal que $x[j,0] = P(s_{t-1}=j)$, então temos:\n",
    "\n",
    "$$\n",
    "P(s_t = i) =  \\sum_{j=0}^ {N-1} a[i,j] x[j, 0].\n",
    "$$\n",
    "\n",
    "Se representarmos nossas probabilidades $P(s_t=i)$ numa matriz $Y$, passamos a ter:\n",
    "$$\n",
    "\\boldsymbol{Y}  =   \\sum_{j=0}^ {N-1} a[i,j] x[j, 0].\n",
    "$$\n",
    "\n",
    "A expressão à direita dessa equação é uma multiplicação matricial:\n",
    "$$\n",
    "\\boldsymbol{Y}  =  \\boldsymbol{A} \\boldsymbol{X}.\n",
    "$$\n",
    "\n",
    "E, portanto, \"dar um passo\" em nosso navegador probabilístico significa multiplicar nossa matriz de probabilidades atual pela matriz $A$.\n",
    "\n",
    "Tendo em vista esta dedução,\n",
    "1. Implemente o algoritmo PageRank usando multiplicações matriciais.\n",
    "2. Compare o resultado com aquele encontrado usando o navegador aleatório.\n"
   ]
  },
  {
   "cell_type": "code",
   "execution_count": 17,
   "metadata": {},
   "outputs": [
    {
     "data": {
      "text/plain": [
       "array([[0.16666667],\n",
       "       [0.16666667],\n",
       "       [0.33333333],\n",
       "       [0.33333333]])"
      ]
     },
     "execution_count": 17,
     "metadata": {},
     "output_type": "execute_result"
    }
   ],
   "source": [
    "# Escreva sua solução aqui\n",
    "X = np.array([[1,0,0,0]]).T\n",
    "A@(A@X)"
   ]
  },
  {
   "cell_type": "markdown",
   "metadata": {},
   "source": [
    "# Etapa 4\n",
    "# Exercício 17\n",
    "**Objetivo: escrever um sistema de equações com três variáveis*\n",
    "\n",
    "Três amigos foram a uma feira. O primeiro comprou um pé de alface e duas beterrabas, e pagou um total de 25 reais. O segundo comprou dois pés de alface, uma beterraba e um ramo de coentro, e pagou 22 reais. O terceiro comprou três pés de alface e um ramo de coentro e pagou 17 reais.\n",
    "\n",
    "Neste exercício, vamos descobrir quanto custa cada pé de alface, cada beterraba e cada ramo de coentro isoladamente. Para isso, escreva (no papel!) as equações que permitem calcular o custo de cada uma das compras. Use as variáveis $A$, $B$ e $C$ para representar os preços de cada um dos ítens da compra. Ao fim dessa etapa, você deve encontrar algo parecido com:\n",
    "\n",
    "$\n",
    "\\begin{cases}\n",
    "    \\begin{aligned}\n",
    "    \\text{Preço da compra 1} & = \\text{Qt alface na compra 1} \\times \\text{Preço do alface} + \\text{Qt beterraba na compra 1} \\times \\text{Preço da beterraba} + \\text{Qt coentro na compra 1} \\times \\text{Preço do coentro} \\\\\n",
    "    \\text{Preço da compra 2} & = \\text{Qt alface na compra 2} \\times \\text{Preço do alface} + \\text{Qt beterraba na compra 2} \\times \\text{Preço da beterraba} + \\text{Qt coentro na compra 2} \\times \\text{Preço do coentro} \\\\\n",
    "    ... & = \\sum_{\\text{ítens}} \\text{Quantidade do ítem na compra} \\times \\text{Preço do ítem}\n",
    "    \\end{aligned}\n",
    "\\end{cases}\n",
    "$\n",
    "\n",
    "\n",
    "\n"
   ]
  },
  {
   "cell_type": "code",
   "execution_count": 25,
   "metadata": {},
   "outputs": [
    {
     "name": "stdout",
     "output_type": "stream",
     "text": [
      "[[ 5.]\n",
      " [10.]\n",
      " [ 2.]]\n"
     ]
    }
   ],
   "source": [
    "import numpy as np\n",
    "A = np.array([[1,2,0], [2,1,1], [3,0,1]])\n",
    "y = np.array([[25,22,17]]).T\n",
    "# \n",
    "Ainv = np.linalg.inv(A)\n",
    "\n",
    "\n",
    "x =Ainv @ y\n",
    "print(x)"
   ]
  },
  {
   "cell_type": "markdown",
   "metadata": {},
   "source": [
    "# Exercício 18\n",
    "**Objetivo: resolver o sistema linear por substituição**\n",
    "\n",
    "Quando temos várias equações diferentes que usam as mesmas variáveis, dizemos que trata-se de um \"sistema de equações\". Uma das maneiras de resolver um sistema de equações é escolher uma variável, resolver uma das equações para essa variável, e então substituir o valor dessa variável nas equações restantes. Por exemplo, se tivermos:\n",
    "\n",
    "$\n",
    "\\begin{cases}\n",
    "    \\begin{aligned}\n",
    "    3 & = -A + B \\\\\n",
    "    2 & = 2A + 2B\n",
    "    \\end{aligned}\n",
    "\\end{cases}\n",
    "$\n",
    "\n",
    "podemos escrever a primeira equação como $A = B-3$, e então substituir esse valor na segunda equação, encontrando: $2 = 2 (B-3) + 2B = 2B - 6 + 2B = 4B-6$.\n",
    "\n",
    "Isolando $B$ na segunda equação, temos $4B=8$ e, portanto, $B=2$. Voltando na primeira equação, temos $A=2-3=-1$.\n",
    "\n",
    "Aplique esse método de substituição para resolver o sistema de equações que você encontrou para o caso das compras."
   ]
  },
  {
   "cell_type": "markdown",
   "metadata": {},
   "source": [
    "# Exercício 19\n",
    "**Objetivo: relacionar um sistema linear com sua representação matricial**\n",
    "\n",
    "Podemos escrever um sistema linear na forma de uma multiplicação de matrizes, assim como fizemos com o caso dos sistemas dinâmicos. O sistema que vimos no exercício anterior, por exemplo, poderia ser escrito como:\n",
    "\n",
    "$$\n",
    "\\begin{bmatrix}\n",
    "    3 \\\\\n",
    "    2 \n",
    "\\end{bmatrix}\n",
    "=\n",
    "\\begin{bmatrix}\n",
    "    -1 & 1\\\\\n",
    "    2 & 2\n",
    "\\end{bmatrix} \n",
    "\\begin{bmatrix}\n",
    "    A \\\\\n",
    "    B\n",
    "\\end{bmatrix}\n",
    "$$\n",
    "\n",
    "1. Realize (manualmente, no papel) a multiplicação matricial na representação acima, mostrando que, de fato, representação matricial é equivalente ao sistema de equações.\n",
    "2. Encontre a representação matricial para o sistema de equações que você escreveu no exercício 17.\n"
   ]
  },
  {
   "cell_type": "markdown",
   "metadata": {},
   "source": [
    "# Exercício 20\n",
    "**Objetivo: entender o que é uma matriz identidade**\n",
    "\n",
    "Quando temos uma equação com variáveis simples, como $y=3x$, é possível encontrar $x$ usando o \"passar dividindo\" o $3$, resultando em: $\\frac{y}{3}=x$.\n",
    "\n",
    "Veja, quando estamos \"passando dividindo\", na verdade estamos dividindo ambos os lados da equação pelo mesmo valor, isto é:\n",
    "\n",
    "$\n",
    "\\begin{aligned}\n",
    "y & = 3 x \\\\\n",
    "\\frac{y}{3} & = \\frac{3x}{3} \\\\\n",
    "\\frac{y}{3} & = x  \n",
    "\\end{aligned}\n",
    "$\n",
    "\n",
    "Veja que estamos usando a propriedade de que, para qualquer número real $a$ diferente de zero, $a \\times \\frac{1}{a} = 1$. Nos números reais, $1$ é um número especial porque $1$ multiplicado por qualquer número resulta no próprio número.\n",
    "\n",
    "Seguindo esse mesmo raciocínio, vamos definir uma matriz especial que tem esse mesmo papel do $1$, mas no contexto da multiplicação matricial. Essa matriz é a matriz identidade ($\\boldsymbol{I}$), que é uma matriz quadrada da dimensão que escolhermos, composta inteiramente de zeros, exceto pela sua diagonal principal, que é composta de 1s. Então, temos, por exemplo:\n",
    "\n",
    "$$\n",
    "\\boldsymbol{I_{3}} =\n",
    "\\begin{bmatrix}\n",
    "    1 & 0 & 0\\\\\n",
    "    0 & 1 & 0 \\\\\n",
    "    0 & 0 & 1\n",
    "\\end{bmatrix}\n",
    "$$ \n",
    "\n",
    "Para convencer-se de que a matriz identidade é equivalente ao $1$, mas no contexto de matrizes, realize as multiplicações:\n",
    "\n",
    "1. \n",
    "$\n",
    "\\begin{bmatrix}\n",
    "    1 & 0 \\\\\n",
    "    0 & 1   \n",
    "\\end{bmatrix}\n",
    "\\begin{bmatrix}\n",
    "    a & b \\\\\n",
    "    c & d   \n",
    "\\end{bmatrix}\n",
    "$ \n",
    "\n",
    "2.\n",
    "$\n",
    "\\begin{bmatrix}\n",
    "    a & b \\\\\n",
    "    c & d   \n",
    "\\end{bmatrix}\n",
    "\\begin{bmatrix}\n",
    "    1 & 0 \\\\\n",
    "    0 & 1   \n",
    "\\end{bmatrix}\n",
    "$ \n"
   ]
  },
  {
   "cell_type": "markdown",
   "metadata": {},
   "source": [
    "# Exercício 21\n",
    "**Objetivo: Usar uma matriz inversa e usar para resolver o sistema**\n",
    "\n",
    "No caso da equação $y=3x$, usamos a ideia de dividir os dois lados da equação por $3$. Podemos interpretar essa mesma operação como *multiplicar* os dois lados da equação pelo *inverso* de 3, isto é, $1/3$. Podemos escrever o *inverso* de $3$ como $3^{-1}$, e então a solução da equação seria:\n",
    "\n",
    "$\n",
    "\\begin{aligned}\n",
    "y & = 3 x \\\\\n",
    "3^{-1} y & = 3^{-1} 3 x \\\\\n",
    "3^{-1} y & = 1 x \\\\\n",
    "3^{-1} y & = x  \n",
    "\\end{aligned}\n",
    "$\n",
    "\n",
    "Essa mesma ideia pode ser usada com matrizes. Veja, em nosso caso, estamos encontrando uma *matriz inversa*. A matriz inversa de uma matriz $\\boldsymbol{A}$ é denotada $\\boldsymbol{A}^{-1}$. A multiplicação de uma matriz pela sua inversa resulta na identidade, isto é: $A A^{-1} = I$. Então, para resolver um sistema de equações, podemos usar:\n",
    "\n",
    "$\n",
    "\\begin{aligned}\n",
    "y & = A x \\\\\n",
    "A^{-1} y & = A^{-1} A x \\\\\n",
    "A^{-1} y & = I x \\\\\n",
    "A^{-1} y & = x  \n",
    "\\end{aligned}\n",
    "$\n",
    "\n",
    "*Importante:* lembre-se que a multiplicação matricial não é comutativa, isto é,  $Ax \\neq xA$!\n",
    "\n",
    "Em Python, o método `np.linalg.inv(X)` retorna a inversa da matriz $X$.\n",
    "\n",
    "Escreva um programa que usa os dados dos exercícios anteriores para calcular o preço do alface, da beterraba e do coentro.\n"
   ]
  },
  {
   "cell_type": "markdown",
   "metadata": {},
   "source": [
    "# Exercício 22\n",
    "**Objetivo: resolver um sistema linear com o pacote de álgebra linear de Python**\n",
    "\n",
    "Resolver sistemas lineares é uma tarefa muito comum e muito bem estudada. Por isso, há uma função em Python (e na maior parte das linguagens computacionais) que permite calcular as soluções para um sistema.\n",
    "\n",
    "A função `np.linalg.solve(a, b)` assume que estamos tratando de um sistema $ax=b$, e calcula os valores para $x$. Por exemplo, para o sistema:\n",
    "\n",
    "$$\n",
    "\\begin{bmatrix}\n",
    "    3 \\\\\n",
    "    2 \n",
    "\\end{bmatrix}\n",
    "=\n",
    "\\begin{bmatrix}\n",
    "    -1 & 2\\\\\n",
    "    2 & 2\n",
    "\\end{bmatrix} \n",
    "\\begin{bmatrix}\n",
    "    A \\\\\n",
    "    B\n",
    "\\end{bmatrix}\n",
    "$$\n",
    "\n",
    "usamos:"
   ]
  },
  {
   "cell_type": "code",
   "execution_count": 37,
   "metadata": {},
   "outputs": [
    {
     "name": "stdout",
     "output_type": "stream",
     "text": [
      "[[-0.33333333]\n",
      " [ 1.33333333]]\n"
     ]
    }
   ],
   "source": [
    "b = np.array([ [3], [2]] )\n",
    "a = np.array([[-1, 2], [2, 2]])\n",
    "x = np.linalg.solve(a,b)\n",
    "print(x)"
   ]
  },
  {
   "cell_type": "markdown",
   "metadata": {},
   "source": [
    "Use a função `linalg.solve` para determinar o preço das alfaces, beterrabas e do coentro no nosso problema de feira."
   ]
  },
  {
   "cell_type": "code",
   "execution_count": null,
   "metadata": {},
   "outputs": [],
   "source": [
    "# Resolva aqui"
   ]
  },
  {
   "cell_type": "markdown",
   "metadata": {},
   "source": [
    "# Exercício 23\n",
    "**Objetivo: aplicar a solução de sistemas lineares para uma situação-problema**\n",
    "\n",
    "Uma bola de futebol, modelo oficial da copa de 2022, foi jogada para cima e sua trajetória foi capturada por uma câmera de \n",
    "\n",
    "No primeiro *frame* ( $t=0$ s), a bola está sendo lançada, isto é, está exatamente no ponto em que vai eventualmente cair.\n",
    "\n",
    "No segundo *frame* ( $t=1/30$ s), a bola está a $0.3286$ m do chão.\n",
    "\n",
    "No terceiro *frame* ( $t=2/30$ s), a bola está a $0.6477$ m do chão.\n",
    "\n",
    "No quarto *frame* ( $t=3/30$ s), a bola está a $0.9575$  do chão.\n",
    "\n",
    "Conhecendo a [aceleração da gravidade em cada planeta do sistema solar](https://www.todamateria.com.br/gravidade/), e lembrando da equação do movimento uniformemente variado $s = s_0 + v_0t + at^2/2$, use as técnicas que vimos nesta aula para responder:\n",
    " \n",
    "1. Qual é a aceleração da gravidade, e qual é a velocidade inicial da bola? (resposta esperada: $-85m/s^2$ e $10m/s$)\n",
    "2. Em que planeta essa bola foi jogada?\n",
    "3. Modifique o código gerador de dados para outros planetas e velocidades iniciais da bola e teste seu sistema com novos dados de entrada"
   ]
  },
  {
   "cell_type": "code",
   "execution_count": null,
   "metadata": {},
   "outputs": [],
   "source": [
    "t1 = 1/30\n",
    "t2 = 2/30\n",
    "t3 = 3/30\n",
    "import numpy as np\n"
   ]
  },
  {
   "cell_type": "code",
   "execution_count": null,
   "metadata": {},
   "outputs": [],
   "source": [
    "# Este código gerou os dados (confira se sua resposta faz sentido com esses dados!)\n",
    "a = -8.5\n",
    "s0 = 0\n",
    "v0 = 10\n",
    "t = np.array([0/30, 1/30, 2/30, 3/30])\n",
    "s = s0 + v0*t + a*t**2/2\n",
    "print(s)"
   ]
  }
 ],
 "metadata": {
  "kernelspec": {
   "display_name": "venv",
   "language": "python",
   "name": "python3"
  },
  "language_info": {
   "codemirror_mode": {
    "name": "ipython",
    "version": 3
   },
   "file_extension": ".py",
   "mimetype": "text/x-python",
   "name": "python",
   "nbconvert_exporter": "python",
   "pygments_lexer": "ipython3",
   "version": "3.11.8"
  },
  "orig_nbformat": 4
 },
 "nbformat": 4,
 "nbformat_minor": 2
}
